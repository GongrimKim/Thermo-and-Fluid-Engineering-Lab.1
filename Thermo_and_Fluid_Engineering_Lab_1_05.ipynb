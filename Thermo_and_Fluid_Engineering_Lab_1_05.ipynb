{
  "nbformat": 4,
  "nbformat_minor": 0,
  "metadata": {
    "colab": {
      "name": "Thermo_and_Fluid_Engineering_Lab_1_05.ipynb",
      "version": "0.3.2",
      "provenance": [],
      "include_colab_link": true
    },
    "kernelspec": {
      "name": "python3",
      "display_name": "Python 3"
    }
  },
  "cells": [
    {
      "cell_type": "markdown",
      "metadata": {
        "id": "view-in-github",
        "colab_type": "text"
      },
      "source": [
        "<a href=\"https://colab.research.google.com/github/JinFree/Thermo-and-Fluid-Engineering-Lab.1/blob/master/Thermo_and_Fluid_Engineering_Lab_1_05.ipynb\" target=\"_parent\"><img src=\"https://colab.research.google.com/assets/colab-badge.svg\" alt=\"Open In Colab\"/></a>"
      ]
    },
    {
      "cell_type": "markdown",
      "metadata": {
        "id": "QcjNWcVc8bv7",
        "colab_type": "text"
      },
      "source": [
        "# Matplotlib"
      ]
    },
    {
      "cell_type": "markdown",
      "metadata": {
        "id": "A25s3jU8bcLn",
        "colab_type": "text"
      },
      "source": [
        "## Matplotlib Import"
      ]
    },
    {
      "cell_type": "code",
      "metadata": {
        "id": "Q3RDE5spbamJ",
        "colab_type": "code",
        "colab": {}
      },
      "source": [
        "import matplotlib as mpl\n",
        "import matplotlib.pyplot as plt"
      ],
      "execution_count": 0,
      "outputs": []
    },
    {
      "cell_type": "markdown",
      "metadata": {
        "id": "wkHnLblZbddQ",
        "colab_type": "text"
      },
      "source": [
        "* Style Setting"
      ]
    },
    {
      "cell_type": "code",
      "metadata": {
        "id": "G7aF0LqbbgR3",
        "colab_type": "code",
        "colab": {}
      },
      "source": [
        "plt.style.use('classic')"
      ],
      "execution_count": 0,
      "outputs": []
    },
    {
      "cell_type": "markdown",
      "metadata": {
        "id": "NYVIzEAAueev",
        "colab_type": "text"
      },
      "source": [
        "* ipynb 상에서 출력을 보기 위한 명령행"
      ]
    },
    {
      "cell_type": "code",
      "metadata": {
        "id": "WvSPMBZVuiQZ",
        "colab_type": "code",
        "colab": {}
      },
      "source": [
        "%matplotlib inline"
      ],
      "execution_count": 0,
      "outputs": []
    },
    {
      "cell_type": "markdown",
      "metadata": {
        "id": "x9fN_NVtuIya",
        "colab_type": "text"
      },
      "source": [
        "### 스크립트 내에서 Plotting"
      ]
    },
    {
      "cell_type": "code",
      "metadata": {
        "id": "T7ta2HUTuP41",
        "colab_type": "code",
        "colab": {}
      },
      "source": [
        "import matplotlib.pyplot as plt\n",
        "import numpy as np\n",
        "\n",
        "x = np.linspace(0, 10, 100)\n",
        "\n",
        "plt.plot(x, np.sin(x))\n",
        "plt.plot(x, np.cos(x))\n",
        "\n",
        "plt.show()"
      ],
      "execution_count": 0,
      "outputs": []
    },
    {
      "cell_type": "code",
      "metadata": {
        "id": "aBMhi8McumTi",
        "colab_type": "code",
        "colab": {}
      },
      "source": [
        "import numpy as np\n",
        "x = np.linspace(0, 10, 100)\n",
        "\n",
        "fig = plt.figure()\n",
        "plt.plot(x, np.sin(x), '-')\n",
        "plt.plot(x, np.cos(x), '--');"
      ],
      "execution_count": 0,
      "outputs": []
    },
    {
      "cell_type": "markdown",
      "metadata": {
        "id": "-b31siWeuPYr",
        "colab_type": "text"
      },
      "source": [
        "### Figure를 File로 저장하는 방법\n",
        "* savefig()"
      ]
    },
    {
      "cell_type": "code",
      "metadata": {
        "id": "xLV1nbXUuwF9",
        "colab_type": "code",
        "colab": {}
      },
      "source": [
        "fig.savefig('my_figure.png')"
      ],
      "execution_count": 0,
      "outputs": []
    },
    {
      "cell_type": "markdown",
      "metadata": {
        "id": "wLGXCDg-uzbW",
        "colab_type": "text"
      },
      "source": [
        "* 위 코드 실행 시 \"파일\"탭을 통해 현 위치에 이미지파일이 생성된 것을 확인할 수 있음."
      ]
    },
    {
      "cell_type": "code",
      "metadata": {
        "id": "1iV81Ji2u6fA",
        "colab_type": "code",
        "colab": {}
      },
      "source": [
        "!ls -lh my_figure.png"
      ],
      "execution_count": 0,
      "outputs": []
    },
    {
      "cell_type": "markdown",
      "metadata": {
        "id": "-IUbw28vvAIS",
        "colab_type": "text"
      },
      "source": [
        "## Plot을 위한 Interface"
      ]
    },
    {
      "cell_type": "markdown",
      "metadata": {
        "id": "aBLATU0jvII-",
        "colab_type": "text"
      },
      "source": [
        "### Matlab 스타일"
      ]
    },
    {
      "cell_type": "code",
      "metadata": {
        "id": "WmuRaPjevLz1",
        "colab_type": "code",
        "colab": {}
      },
      "source": [
        "plt.figure()  # create a plot figure\n",
        "\n",
        "# create the first of two panels and set current axis\n",
        "plt.subplot(2, 1, 1) # (rows, columns, panel number)\n",
        "plt.plot(x, np.sin(x))\n",
        "\n",
        "# create the second panel and set current axis\n",
        "plt.subplot(2, 1, 2)\n",
        "plt.plot(x, np.cos(x));"
      ],
      "execution_count": 0,
      "outputs": []
    },
    {
      "cell_type": "markdown",
      "metadata": {
        "id": "ZKusHyi1vOs6",
        "colab_type": "text"
      },
      "source": [
        "### Python 스타일"
      ]
    },
    {
      "cell_type": "code",
      "metadata": {
        "id": "kyFUrSPPvQjx",
        "colab_type": "code",
        "colab": {}
      },
      "source": [
        "# First create a grid of plots\n",
        "# ax will be an array of two Axes objects\n",
        "fig, ax = plt.subplots(2)\n",
        "\n",
        "# Call plot() method on the appropriate object\n",
        "ax[0].plot(x, np.sin(x))\n",
        "ax[1].plot(x, np.cos(x));"
      ],
      "execution_count": 0,
      "outputs": []
    },
    {
      "cell_type": "markdown",
      "metadata": {
        "id": "O_2fUmVPvWnh",
        "colab_type": "text"
      },
      "source": [
        "# Line Plots"
      ]
    },
    {
      "cell_type": "markdown",
      "metadata": {
        "id": "Y4jNlr7HvckP",
        "colab_type": "text"
      },
      "source": [
        "* 기본적인 y = f(x) 형태의 함수를 출력하는 방법 실습"
      ]
    },
    {
      "cell_type": "code",
      "metadata": {
        "id": "1WF5VttcvbRe",
        "colab_type": "code",
        "colab": {}
      },
      "source": [
        "%matplotlib inline\n",
        "import matplotlib.pyplot as plt\n",
        "plt.style.use('seaborn-whitegrid')\n",
        "import numpy as np"
      ],
      "execution_count": 0,
      "outputs": []
    },
    {
      "cell_type": "markdown",
      "metadata": {
        "id": "ZdxZvfjTvjPJ",
        "colab_type": "text"
      },
      "source": [
        "* 모든 Matplotlib에서의 plot은 figure와 axex를 생성하는 것으로 plotting을 시작할 수 있음."
      ]
    },
    {
      "cell_type": "code",
      "metadata": {
        "id": "1UttMOZ9viUe",
        "colab_type": "code",
        "colab": {}
      },
      "source": [
        "fig = plt.figure()\n",
        "ax = plt.axes()"
      ],
      "execution_count": 0,
      "outputs": []
    },
    {
      "cell_type": "code",
      "metadata": {
        "id": "i4l--qLDv8V0",
        "colab_type": "code",
        "colab": {}
      },
      "source": [
        "fig = plt.figure()\n",
        "ax = plt.axes()\n",
        "\n",
        "x = np.linspace(0, 10, 1000)\n",
        "ax.plot(x, np.sin(x));"
      ],
      "execution_count": 0,
      "outputs": []
    },
    {
      "cell_type": "code",
      "metadata": {
        "id": "1Q3X2n7Pv_mT",
        "colab_type": "code",
        "colab": {}
      },
      "source": [
        "plt.plot(x, np.sin(x));"
      ],
      "execution_count": 0,
      "outputs": []
    },
    {
      "cell_type": "markdown",
      "metadata": {
        "id": "vGK-jHh9wJGW",
        "colab_type": "text"
      },
      "source": [
        "* 만약 하나의 figure로 여러개의 선을 그리고자 하는 경우 아래와 같이 사용할 수 있음"
      ]
    },
    {
      "cell_type": "code",
      "metadata": {
        "id": "wysEPBEnwN1B",
        "colab_type": "code",
        "colab": {}
      },
      "source": [
        "plt.plot(x, np.sin(x))\n",
        "plt.plot(x, np.cos(x));"
      ],
      "execution_count": 0,
      "outputs": []
    },
    {
      "cell_type": "markdown",
      "metadata": {
        "id": "V3JTy9TKwP5U",
        "colab_type": "text"
      },
      "source": [
        "## Plot 조정: 선 색과 선 스타일"
      ]
    },
    {
      "cell_type": "markdown",
      "metadata": {
        "id": "00b4I4EtwVye",
        "colab_type": "text"
      },
      "source": [
        "* 선의 색을 조정하는 다양한 방법은 아래와 같음"
      ]
    },
    {
      "cell_type": "code",
      "metadata": {
        "id": "_J0-4tAmwZjL",
        "colab_type": "code",
        "colab": {}
      },
      "source": [
        "plt.plot(x, np.sin(x - 0), color='blue')        # specify color by name\n",
        "plt.plot(x, np.sin(x - 1), color='g')           # short color code (rgbcmyk)\n",
        "plt.plot(x, np.sin(x - 2), color='0.75')        # Grayscale between 0 and 1\n",
        "plt.plot(x, np.sin(x - 3), color='#FFDD44')     # Hex code (RRGGBB from 00 to FF)\n",
        "plt.plot(x, np.sin(x - 4), color=(1.0,0.2,0.3)) # RGB tuple, values 0 to 1\n",
        "plt.plot(x, np.sin(x - 5), color='chartreuse'); # all HTML color names supported"
      ],
      "execution_count": 0,
      "outputs": []
    },
    {
      "cell_type": "markdown",
      "metadata": {
        "id": "xoBPKprlwd-C",
        "colab_type": "text"
      },
      "source": [
        "* 선의 스타일을 조정하는 다양한 방법은 아래와 같음"
      ]
    },
    {
      "cell_type": "code",
      "metadata": {
        "id": "i_XChtL4whpW",
        "colab_type": "code",
        "colab": {}
      },
      "source": [
        "plt.plot(x, x + 0, linestyle='solid')\n",
        "plt.plot(x, x + 1, linestyle='dashed')\n",
        "plt.plot(x, x + 2, linestyle='dashdot')\n",
        "plt.plot(x, x + 3, linestyle='dotted');\n",
        "\n",
        "# For short, you can use the following codes:\n",
        "plt.plot(x, x + 4, linestyle='-')  # solid\n",
        "plt.plot(x, x + 5, linestyle='--') # dashed\n",
        "plt.plot(x, x + 6, linestyle='-.') # dashdot\n",
        "plt.plot(x, x + 7, linestyle=':');  # dotted"
      ],
      "execution_count": 0,
      "outputs": []
    },
    {
      "cell_type": "markdown",
      "metadata": {
        "id": "TqO3RCGKwlYY",
        "colab_type": "text"
      },
      "source": [
        "* 선의 색과 스타일 모두를 동시에 조정하는 방법은 아래와 같음"
      ]
    },
    {
      "cell_type": "code",
      "metadata": {
        "id": "CPM87S_ywpqv",
        "colab_type": "code",
        "colab": {}
      },
      "source": [
        "plt.plot(x, x + 0, '-g')  # solid green\n",
        "plt.plot(x, x + 1, '--c') # dashed cyan\n",
        "plt.plot(x, x + 2, '-.k') # dashdot black\n",
        "plt.plot(x, x + 3, ':r');  # dotted red"
      ],
      "execution_count": 0,
      "outputs": []
    },
    {
      "cell_type": "markdown",
      "metadata": {
        "id": "XDxhXB5RwsIJ",
        "colab_type": "text"
      },
      "source": [
        "## Plot에서 축 조절"
      ]
    },
    {
      "cell_type": "markdown",
      "metadata": {
        "id": "MWQ38NfBwwDY",
        "colab_type": "text"
      },
      "source": [
        "* plot은 기본적으로 데이터가 존재하는 영역만큼만 딱 맞게 나오나, 해당 영역을 조절할 수 있음"
      ]
    },
    {
      "cell_type": "code",
      "metadata": {
        "id": "b3-j5k09w1_S",
        "colab_type": "code",
        "colab": {}
      },
      "source": [
        "plt.plot(x, np.sin(x))\n",
        "\n",
        "plt.xlim(-1, 11)\n",
        "plt.ylim(-1.5, 1.5);"
      ],
      "execution_count": 0,
      "outputs": []
    },
    {
      "cell_type": "markdown",
      "metadata": {
        "id": "tFZN--8jw5IS",
        "colab_type": "text"
      },
      "source": [
        "* 만약 plot axis를 거꾸로 보이고자 하는 경우 아래와 같이 사용할 수 있음."
      ]
    },
    {
      "cell_type": "code",
      "metadata": {
        "id": "S-5EoCEEw_qY",
        "colab_type": "code",
        "colab": {}
      },
      "source": [
        "plt.plot(x, np.sin(x))\n",
        "\n",
        "plt.xlim(10, 0)\n",
        "plt.ylim(1.2, -1.2);"
      ],
      "execution_count": 0,
      "outputs": []
    },
    {
      "cell_type": "markdown",
      "metadata": {
        "id": "z_GrQCtYxDO6",
        "colab_type": "text"
      },
      "source": [
        "* xlim과 ylim을 사용하지 않고 아래와 같이 한 줄로도 표현할 수 있음"
      ]
    },
    {
      "cell_type": "code",
      "metadata": {
        "id": "FmXYMCw8xHH7",
        "colab_type": "code",
        "colab": {}
      },
      "source": [
        "plt.plot(x, np.sin(x))\n",
        "plt.axis([-1, 11, -1.5, 1.5]);"
      ],
      "execution_count": 0,
      "outputs": []
    },
    {
      "cell_type": "markdown",
      "metadata": {
        "id": "7p55ZJTpxJr8",
        "colab_type": "text"
      },
      "source": [
        "* 다시 데이터가 존재하는 영역만 표현하고자 하는 경우 아래와 같이 표현할 수 있음."
      ]
    },
    {
      "cell_type": "code",
      "metadata": {
        "id": "DNPYpkjfxPQv",
        "colab_type": "code",
        "colab": {}
      },
      "source": [
        "plt.plot(x, np.sin(x))\n",
        "plt.axis('tight');"
      ],
      "execution_count": 0,
      "outputs": []
    },
    {
      "cell_type": "markdown",
      "metadata": {
        "id": "ctOnX2QTxRTo",
        "colab_type": "text"
      },
      "source": [
        "* 데이터의 가로축과 세로축의 격자간격을 동일하게 보고자 하는 경우 아래와 같이 표현할 수 있음."
      ]
    },
    {
      "cell_type": "code",
      "metadata": {
        "id": "tad6BIaexeRe",
        "colab_type": "code",
        "colab": {}
      },
      "source": [
        "plt.plot(x, np.sin(x))\n",
        "plt.axis('equal');"
      ],
      "execution_count": 0,
      "outputs": []
    },
    {
      "cell_type": "markdown",
      "metadata": {
        "id": "6487Ohd0xf_L",
        "colab_type": "text"
      },
      "source": [
        "## Plot labeling"
      ]
    },
    {
      "cell_type": "markdown",
      "metadata": {
        "id": "tHqejvnnxoCx",
        "colab_type": "text"
      },
      "source": [
        "* Plot에 제목을 붙이고 각 축 별 이름을 붙이는 경우 아래와 같이 활용할 수 있음."
      ]
    },
    {
      "cell_type": "code",
      "metadata": {
        "id": "epUyLQyJxu1_",
        "colab_type": "code",
        "colab": {}
      },
      "source": [
        "plt.plot(x, np.sin(x))\n",
        "plt.title(\"A Sine Curve\")\n",
        "plt.xlabel(\"x\")\n",
        "plt.ylabel(\"sin(x)\");"
      ],
      "execution_count": 0,
      "outputs": []
    },
    {
      "cell_type": "markdown",
      "metadata": {
        "id": "NXxEBQIQxy24",
        "colab_type": "text"
      },
      "source": [
        "* Plot 내 개별 선에 제목을 붙이고 범례를 표현하고자 하는 경우 아래와 같이 할 수 있음"
      ]
    },
    {
      "cell_type": "code",
      "metadata": {
        "id": "jE6W2vKSx4QO",
        "colab_type": "code",
        "colab": {}
      },
      "source": [
        "plt.plot(x, np.sin(x), '-g', label='sin(x)')\n",
        "plt.plot(x, np.cos(x), ':b', label='cos(x)')\n",
        "plt.axis('equal')\n",
        "\n",
        "plt.legend();"
      ],
      "execution_count": 0,
      "outputs": []
    },
    {
      "cell_type": "markdown",
      "metadata": {
        "id": "uoGuk3vex-kL",
        "colab_type": "text"
      },
      "source": [
        "# Scatter plots"
      ]
    },
    {
      "cell_type": "code",
      "metadata": {
        "id": "eS74qxJJyBy1",
        "colab_type": "code",
        "colab": {}
      },
      "source": [
        "%matplotlib inline\n",
        "import matplotlib.pyplot as plt\n",
        "plt.style.use('seaborn-whitegrid')\n",
        "import numpy as np"
      ],
      "execution_count": 0,
      "outputs": []
    },
    {
      "cell_type": "markdown",
      "metadata": {
        "id": "_C8VW4BryDCL",
        "colab_type": "text"
      },
      "source": [
        "## plt.plot을 활용한 scatter plots"
      ]
    },
    {
      "cell_type": "code",
      "metadata": {
        "id": "WzCIqCOFyGqY",
        "colab_type": "code",
        "colab": {}
      },
      "source": [
        "x = np.linspace(0, 10, 30)\n",
        "y = np.sin(x)\n",
        "\n",
        "plt.plot(x, y, 'o', color='black');"
      ],
      "execution_count": 0,
      "outputs": []
    },
    {
      "cell_type": "markdown",
      "metadata": {
        "id": "UYucMY3ayesj",
        "colab_type": "text"
      },
      "source": [
        "* plot의 세 번째 인자를 통해 scatter plot과 line plot중 어떤 것을 할 것인지 정할 수 있음."
      ]
    },
    {
      "cell_type": "code",
      "metadata": {
        "id": "AxvQ3eNmyXFu",
        "colab_type": "code",
        "colab": {}
      },
      "source": [
        "rng = np.random.RandomState(0)\n",
        "for marker in ['o', '.', ',', 'x', '+', 'v', '^', '<', '>', 's', 'd']:\n",
        "    plt.plot(rng.rand(5), rng.rand(5), marker,\n",
        "             label=\"marker='{0}'\".format(marker))\n",
        "plt.legend(numpoints=1)\n",
        "plt.xlim(0, 1.8);"
      ],
      "execution_count": 0,
      "outputs": []
    },
    {
      "cell_type": "markdown",
      "metadata": {
        "id": "j5titYN8yKPj",
        "colab_type": "text"
      },
      "source": [
        "* scatter plot과 line plot을 동시에 하는 방법은 아래와 같음"
      ]
    },
    {
      "cell_type": "code",
      "metadata": {
        "id": "8LrhT7EYyqgR",
        "colab_type": "code",
        "colab": {}
      },
      "source": [
        "plt.plot(x, y, '-ok');"
      ],
      "execution_count": 0,
      "outputs": []
    },
    {
      "cell_type": "markdown",
      "metadata": {
        "id": "qfyrTRorys9r",
        "colab_type": "text"
      },
      "source": [
        "* plot에 아래와 같이 다양한 설정 방법이 있음"
      ]
    },
    {
      "cell_type": "code",
      "metadata": {
        "id": "h6voOP32yw_9",
        "colab_type": "code",
        "colab": {}
      },
      "source": [
        "plt.plot(x, y, '-p', color='gray',\n",
        "         markersize=15, linewidth=4,\n",
        "         markerfacecolor='white',\n",
        "         markeredgecolor='gray',\n",
        "         markeredgewidth=2)\n",
        "plt.ylim(-1.2, 1.2);"
      ],
      "execution_count": 0,
      "outputs": []
    },
    {
      "cell_type": "markdown",
      "metadata": {
        "id": "i9PMiUC3yyzC",
        "colab_type": "text"
      },
      "source": [
        "## plt.scatter를 활용한 scatter plots"
      ]
    },
    {
      "cell_type": "code",
      "metadata": {
        "id": "BnJkBmHny3bM",
        "colab_type": "code",
        "colab": {}
      },
      "source": [
        "plt.scatter(x, y, marker='o');"
      ],
      "execution_count": 0,
      "outputs": []
    },
    {
      "cell_type": "markdown",
      "metadata": {
        "id": "9aScRLSRy7Cu",
        "colab_type": "text"
      },
      "source": [
        "* plt.plot와 다르게 plt.scatter는 각 점 별로 크기나 색상 등 다양한 설정을 할 수 있음"
      ]
    },
    {
      "cell_type": "code",
      "metadata": {
        "id": "E6GlVX4jzC5O",
        "colab_type": "code",
        "colab": {}
      },
      "source": [
        "rng = np.random.RandomState(0)\n",
        "x = rng.randn(100)\n",
        "y = rng.randn(100)\n",
        "colors = rng.rand(100)\n",
        "sizes = 1000 * rng.rand(100)\n",
        "\n",
        "plt.scatter(x, y, c=colors, s=sizes, alpha=0.3,\n",
        "            cmap='viridis')\n",
        "plt.colorbar();  # show color scale"
      ],
      "execution_count": 0,
      "outputs": []
    },
    {
      "cell_type": "markdown",
      "metadata": {
        "id": "7Ly-awNBbfMp",
        "colab_type": "text"
      },
      "source": [
        "# 과제\n",
        "## 5번\n",
        "* 파일 - 새 Python3 노트를 통해 새 노트북을 만드시오.\n",
        "* 작성중\n",
        "* 파일 - Github에 사본 저장을 통해 1번 과제에서 복사한 저장소에 아래와 같은 이름으로 저장하시오.\n",
        " * 열유체공학실험-2016201278-HW05\n",
        " * 다른 제목인 경우 미제출 처리 될 수 있음."
      ]
    },
    {
      "cell_type": "code",
      "metadata": {
        "id": "z2Il1Ot6bne2",
        "colab_type": "code",
        "colab": {}
      },
      "source": [
        ""
      ],
      "execution_count": 0,
      "outputs": []
    }
  ]
}