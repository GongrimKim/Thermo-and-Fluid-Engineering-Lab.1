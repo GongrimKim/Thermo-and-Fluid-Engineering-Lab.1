{
  "nbformat": 4,
  "nbformat_minor": 0,
  "metadata": {
    "colab": {
      "name": "Thermo_and_Fluid_Engineering_Lab_1_04.ipynb",
      "version": "0.3.2",
      "provenance": [],
      "include_colab_link": true
    },
    "kernelspec": {
      "name": "python3",
      "display_name": "Python 3"
    },
    "accelerator": "GPU"
  },
  "cells": [
    {
      "cell_type": "markdown",
      "metadata": {
        "id": "view-in-github",
        "colab_type": "text"
      },
      "source": [
        "<a href=\"https://colab.research.google.com/github/JinFree/Thermo-and-Fluid-Engineering-Lab.1/blob/master/Thermo_and_Fluid_Engineering_Lab_1_04.ipynb\" target=\"_parent\"><img src=\"https://colab.research.google.com/assets/colab-badge.svg\" alt=\"Open In Colab\"/></a>"
      ]
    },
    {
      "cell_type": "markdown",
      "metadata": {
        "colab_type": "text",
        "id": "xSP2r2U_hB9m"
      },
      "source": [
        "# Numba"
      ]
    },
    {
      "cell_type": "markdown",
      "metadata": {
        "id": "HKKxZTOch0Y5",
        "colab_type": "text"
      },
      "source": [
        "## First Steps with numba"
      ]
    },
    {
      "cell_type": "code",
      "metadata": {
        "id": "j0FcL04Ch4hg",
        "colab_type": "code",
        "colab": {}
      },
      "source": [
        "import numba\n",
        "print(numba.__version__)"
      ],
      "execution_count": 0,
      "outputs": []
    },
    {
      "cell_type": "markdown",
      "metadata": {
        "id": "NL6nEh9Nh3-K",
        "colab_type": "text"
      },
      "source": [
        "### Numba\n",
        "  "
      ]
    },
    {
      "cell_type": "markdown",
      "metadata": {
        "id": "e4PHiu53d6TI",
        "colab_type": "text"
      },
      "source": [
        "\n",
        "* numba는 Python 코드의 특정 부분을 컴파일할 수 있게 하며, 그를 통해 해당 부분이 C 언어로 컴파일된 코드와 같은 속도로 작동할 수 있게 한다.\n",
        "* numba는 함수 수순에서 작동한다.\n",
        "* 이 노트북은 numba의 간단한 사용법이 설명되어 있으며, 아래 깃헙 저장소에서 소개된 내용을 한국어로 번역한 것이다.\n",
        "  * https://github.com/numba/numba"
      ]
    },
    {
      "cell_type": "markdown",
      "metadata": {
        "id": "arBFugC0c-3m",
        "colab_type": "text"
      },
      "source": [
        "* 간단한 예제\n",
        " * Numpy array를 활용하여 Python으로 버블소트를 구현한 경우"
      ]
    },
    {
      "cell_type": "code",
      "metadata": {
        "id": "_XpCWTYkh9wl",
        "colab_type": "code",
        "colab": {}
      },
      "source": [
        "def bubblesort(X):\n",
        "    N = len(X)\n",
        "    for end in range(N, 1, -1):\n",
        "        for i in range(end - 1):\n",
        "            cur = X[i]\n",
        "            if cur > X[i + 1]:\n",
        "                tmp = X[i]\n",
        "                X[i] = X[i + 1]\n",
        "                X[i + 1] = tmp"
      ],
      "execution_count": 0,
      "outputs": []
    },
    {
      "cell_type": "markdown",
      "metadata": {
        "id": "aeKktCkRdSTO",
        "colab_type": "text"
      },
      "source": [
        "* 우선 Numpy array를 생성한 후 랜덤하게 섞는다."
      ]
    },
    {
      "cell_type": "code",
      "metadata": {
        "id": "F9G-DzDSdNNx",
        "colab_type": "code",
        "colab": {}
      },
      "source": [
        "import numpy as np\n",
        "\n",
        "original = np.arange(0.0, 10.0, 0.01, dtype='f4')\n",
        "shuffled = original.copy()\n",
        "np.random.shuffle(shuffled)"
      ],
      "execution_count": 0,
      "outputs": []
    },
    {
      "cell_type": "markdown",
      "metadata": {
        "id": "CD8kKFlKdW_7",
        "colab_type": "text"
      },
      "source": [
        "* 이후 위에서 구현한 정렬 함수를 사용한다."
      ]
    },
    {
      "cell_type": "code",
      "metadata": {
        "id": "5i1f0wa9deHW",
        "colab_type": "code",
        "colab": {}
      },
      "source": [
        "sorted = shuffled.copy()\n",
        "bubblesort(sorted)\n",
        "print(np.array_equal(sorted, original))"
      ],
      "execution_count": 0,
      "outputs": []
    },
    {
      "cell_type": "markdown",
      "metadata": {
        "id": "HBiX5t59dgm-",
        "colab_type": "text"
      },
      "source": [
        "* 이후 수행시간을 확인한다."
      ]
    },
    {
      "cell_type": "code",
      "metadata": {
        "id": "ch7M2Ssjdode",
        "colab_type": "code",
        "colab": {}
      },
      "source": [
        "sorted[:] = shuffled[:]\n",
        "%timeit sorted[:] = shuffled[:]; bubblesort(sorted)"
      ],
      "execution_count": 0,
      "outputs": []
    },
    {
      "cell_type": "code",
      "metadata": {
        "id": "nHN2FA7Edqpv",
        "colab_type": "code",
        "colab": {}
      },
      "source": [
        "%timeit sorted[:] = shuffled[:]"
      ],
      "execution_count": 0,
      "outputs": []
    },
    {
      "cell_type": "markdown",
      "metadata": {
        "id": "wYAkgQhndl3v",
        "colab_type": "text"
      },
      "source": [
        "### numba.jit을 활용한 함수의 컴파일\n"
      ]
    },
    {
      "cell_type": "markdown",
      "metadata": {
        "id": "0I-k_q_QeMPV",
        "colab_type": "text"
      },
      "source": [
        "\n",
        "* numba를 활용하는 방법을 소개한다.\n",
        "* numba.jit 데코레이터를 명시적으로 활용하는 방법이 있다.\n",
        "* 이를 활용한 후 속도 비교를 수행한다."
      ]
    },
    {
      "cell_type": "code",
      "metadata": {
        "id": "wN4elwKBeM5W",
        "colab_type": "code",
        "colab": {}
      },
      "source": [
        "print(numba.jit.__doc__)"
      ],
      "execution_count": 0,
      "outputs": []
    },
    {
      "cell_type": "code",
      "metadata": {
        "id": "UttcVC8PeUBt",
        "colab_type": "code",
        "colab": {}
      },
      "source": [
        "bubblesort_jit = numba.jit(\"void(f4[:])\")(bubblesort)"
      ],
      "execution_count": 0,
      "outputs": []
    },
    {
      "cell_type": "markdown",
      "metadata": {
        "id": "wqHyebqQeXhD",
        "colab_type": "text"
      },
      "source": [
        "* 위 코드를 수행하면, bubblesort_jit는 위에서 선언횐 bubblesort를 컴파일한 함수가 된다.\n",
        "* \"void(f4[:])\"는 Signature라 불리며 함수의 입력과 리턴을 의미한다.\n",
        "* f4[:]는 입력, void는 리턴을 의미한다."
      ]
    },
    {
      "cell_type": "markdown",
      "metadata": {
        "id": "eMgx0AlQe4oC",
        "colab_type": "text"
      },
      "source": [
        "* 작동하는지를 확인한다."
      ]
    },
    {
      "cell_type": "code",
      "metadata": {
        "id": "wmc3sbcSe1hC",
        "colab_type": "code",
        "colab": {}
      },
      "source": [
        "sorted[:] = shuffled[:] # reset to shuffled before sorting\n",
        "bubblesort_jit(sorted)\n",
        "print(np.array_equal(sorted, original))"
      ],
      "execution_count": 0,
      "outputs": []
    },
    {
      "cell_type": "markdown",
      "metadata": {
        "id": "XL6oCAP_e6bU",
        "colab_type": "text"
      },
      "source": [
        "* 이제 작동시간을 확인한다."
      ]
    },
    {
      "cell_type": "code",
      "metadata": {
        "id": "GlhAbTE5e8rU",
        "colab_type": "code",
        "colab": {}
      },
      "source": [
        "%timeit sorted[:] = shuffled[:]; bubblesort_jit(sorted)"
      ],
      "execution_count": 0,
      "outputs": []
    },
    {
      "cell_type": "code",
      "metadata": {
        "id": "PWsn0tsQfAvE",
        "colab_type": "code",
        "colab": {}
      },
      "source": [
        "%timeit sorted[:] = shuffled[:]; bubblesort(sorted)"
      ],
      "execution_count": 0,
      "outputs": []
    },
    {
      "cell_type": "markdown",
      "metadata": {
        "id": "v5tcwDZ6e_gW",
        "colab_type": "text"
      },
      "source": [
        "* 아래와 같은 방식으로도 함수를 컴파일할 수 있다."
      ]
    },
    {
      "cell_type": "code",
      "metadata": {
        "id": "t_-D4VPmfIN9",
        "colab_type": "code",
        "colab": {}
      },
      "source": [
        "@numba.jit(\"void(f4[:])\")\n",
        "def bubblesort_jit_function(X):\n",
        "    N = len(X)\n",
        "    for end in range(N, 1, -1):\n",
        "        for i in range(end - 1):\n",
        "            cur = X[i]\n",
        "            if cur > X[i + 1]:\n",
        "                tmp = X[i]\n",
        "                X[i] = X[i + 1]\n",
        "                X[i + 1] = tmp"
      ],
      "execution_count": 0,
      "outputs": []
    },
    {
      "cell_type": "code",
      "metadata": {
        "id": "5OKffVkHfMAJ",
        "colab_type": "code",
        "colab": {}
      },
      "source": [
        "sorted[:] = shuffled[:] # reset to shuffled before sorting\n",
        "bubblesort_jit_function(sorted)\n",
        "print(np.array_equal(sorted, original))"
      ],
      "execution_count": 0,
      "outputs": []
    },
    {
      "cell_type": "markdown",
      "metadata": {
        "id": "zr3Zp-AIfZTD",
        "colab_type": "text"
      },
      "source": [
        "### Signature\n",
        "* Python함수를 컴파일할 때 컴파일러는 함수의 입출력 자료형 정보를 받아야만 한다.\n",
        "* numba.jit을 통해 컴파일된 함수는 알맞은 입력 자료형에 대해서 정상작동한다. \n",
        " * 그렇지 않은 경우도 가능하나, 흔하지는 않다.\n",
        "* Signature에는 출력 자료형도 포함되며, 아래와 같은 형태를 가진다.\n",
        "* <출력 자료형>(<첫 번째 입력 자료형>, <두 번째 입력 자료형>, ...)"
      ]
    },
    {
      "cell_type": "markdown",
      "metadata": {
        "id": "Z0lc0yzigLob",
        "colab_type": "text"
      },
      "source": [
        "### Signature가 제공되지 않은 함수의 컴파일\n",
        "* numba 버전 0.12 이상에서는 numba.jit에 자료형에 대한 Signature가 제공되지 않아도 컴파일이 가능하다.\n",
        "* 기존에는 이를 numba.autojit로 제공했으나 최근 버전에서는 numba.jit에 포함되었다."
      ]
    },
    {
      "cell_type": "code",
      "metadata": {
        "id": "ti_LFkTYgsZh",
        "colab_type": "code",
        "colab": {}
      },
      "source": [
        "bubblesort_autojit = numba.jit(bubblesort)"
      ],
      "execution_count": 0,
      "outputs": []
    },
    {
      "cell_type": "code",
      "metadata": {
        "id": "5Z5hZjZtgtUR",
        "colab_type": "code",
        "colab": {}
      },
      "source": [
        "%timeit sorted[:] = shuffled[:]; bubblesort_autojit(sorted)"
      ],
      "execution_count": 0,
      "outputs": []
    },
    {
      "cell_type": "markdown",
      "metadata": {
        "id": "gEvIYmxvg5ny",
        "colab_type": "text"
      },
      "source": [
        "### 몇가지 추가 사항\n",
        "* 컴파일에는 시간이 필요하다. 작은 함수를 사용하는 경우에 많은 시간이 걸리지는 않을 것이다. 그러나 많은 기능이 있는 함수를 컴파일 할 때는 시간이 오래 걸릴 수 있다. numba는 가능한 한 컴파일을 빠르게 하기 위해 사용하지 않는 함수는 컴파일을 하지 않는다.\n",
        "* numba를 활용하는 컴파일보다 Python 네이티브 시스템이 더 빠른 경우가 있다. 이 경우에는 컴파일이 되지 않는다.\n",
        "* 기본적으로, 'cpu' 타겟은 'nopython' 모드로 컴파일한다. 이것이 실패하면 Python 네이티브 시스템으로 사용한다."
      ]
    },
    {
      "cell_type": "code",
      "metadata": {
        "id": "PdGmZmKUmFAe",
        "colab_type": "code",
        "colab": {}
      },
      "source": [
        "@numba.jit(\"void(i1[:])\")\n",
        "def test(value):\n",
        "    for i in range(len(value)):\n",
        "        value[i] = i % 100\n",
        "\n",
        "from decimal import Decimal\n",
        "@numba.jit(\"void(i1[:])\")\n",
        "def test2(value):\n",
        "    for i in range(len(value)):\n",
        "        value[i] = i % Decimal(100)\n",
        "\n",
        "res = np.zeros((10000,), dtype=\"i1\")"
      ],
      "execution_count": 0,
      "outputs": []
    },
    {
      "cell_type": "code",
      "metadata": {
        "id": "TobfjKQ4mG56",
        "colab_type": "code",
        "colab": {}
      },
      "source": [
        "%timeit test(res)"
      ],
      "execution_count": 0,
      "outputs": []
    },
    {
      "cell_type": "code",
      "metadata": {
        "id": "MeLwwlYpmPsl",
        "colab_type": "code",
        "colab": {}
      },
      "source": [
        "%timeit test2(res)"
      ],
      "execution_count": 0,
      "outputs": []
    },
    {
      "cell_type": "markdown",
      "metadata": {
        "id": "fPgMNc42mTQA",
        "colab_type": "text"
      },
      "source": [
        "* 'nopython'모드의 코드 컴파일이 실패하는 경우 피드백을 받는 방법은 아래와 같다.\n",
        "* nopython=True를 통해 강제적으로 nopython모드의 컴파일을 수행하게 함으로써 에러를 받아볼 수 있다."
      ]
    },
    {
      "cell_type": "markdown",
      "metadata": {
        "id": "k4b--S0KmyOy",
        "colab_type": "text"
      },
      "source": [
        "* 아래 코드는 정상적으로 numba.jit의 'nopython'모드 컴파일이 수행된다."
      ]
    },
    {
      "cell_type": "code",
      "metadata": {
        "id": "vYn6UNAQmp_q",
        "colab_type": "code",
        "colab": {}
      },
      "source": [
        "@numba.jit(\"void(i1[:])\", nopython=True)\n",
        "def test(value):\n",
        "    for i in range(len(value)):\n",
        "        value[i] = i % 100"
      ],
      "execution_count": 0,
      "outputs": []
    },
    {
      "cell_type": "markdown",
      "metadata": {
        "id": "m15nEG5Mm3cF",
        "colab_type": "text"
      },
      "source": [
        "* 반면에, 아래 코드는 Decimal사용으로 인해 'nopython'모드 컴파일 수행이 불가능하다."
      ]
    },
    {
      "cell_type": "code",
      "metadata": {
        "id": "uEFkAayUmtZy",
        "colab_type": "code",
        "colab": {}
      },
      "source": [
        "@numba.jit(\"void(i1[:])\", nopython=True)\n",
        "def test2(value):\n",
        "    for i in range(len(value)):\n",
        "        value[i] = i % Decimal(100)"
      ],
      "execution_count": 0,
      "outputs": []
    },
    {
      "cell_type": "markdown",
      "metadata": {
        "id": "33DXv6Q-dOYv",
        "colab_type": "text"
      },
      "source": [
        "# 과제\n",
        "## 4번\n",
        "* 파일 - 새 Python3 노트를 통해 새 노트북을 만드시오.\n",
        "* Python을 활용하여 구구단을 출력하는 함수를 만드시오.\n",
        " * 입력은 하나의 정수를 받으며, 출력은 해당 정수의 구구단을 총 9줄로 출력함.\n",
        " * Python 기본 문법을 사용한 방법, numpy를 사용한 방법, numba.jit를 사용한 방법 셋을 전부 활용하여 결과를 비교하시오.\n",
        "* 파일 - Github에 사본 저장을 통해 1번 과제에서 복사한 저장소에 아래와 같은 이름으로 저장하시오.\n",
        " * 열유체공학실험-2016201278-HW04\n",
        " * 다른 제목인 경우 미제출 처리 될 수 있음."
      ]
    },
    {
      "cell_type": "code",
      "metadata": {
        "id": "oVL7-VF_nTOp",
        "colab_type": "code",
        "colab": {}
      },
      "source": [
        ""
      ],
      "execution_count": 0,
      "outputs": []
    }
  ]
}