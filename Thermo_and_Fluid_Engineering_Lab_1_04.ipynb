{
  "nbformat": 4,
  "nbformat_minor": 0,
  "metadata": {
    "colab": {
      "name": "Thermo_and_Fluid_Engineering_Lab_1_04.ipynb",
      "version": "0.3.2",
      "provenance": [],
      "include_colab_link": true
    },
    "kernelspec": {
      "name": "python3",
      "display_name": "Python 3"
    }
  },
  "cells": [
    {
      "cell_type": "markdown",
      "metadata": {
        "id": "view-in-github",
        "colab_type": "text"
      },
      "source": [
        "<a href=\"https://colab.research.google.com/github/JinFree/Thermo-and-Fluid-Engineering-Lab.1/blob/master/Thermo_and_Fluid_Engineering_Lab_1_04.ipynb\" target=\"_parent\"><img src=\"https://colab.research.google.com/assets/colab-badge.svg\" alt=\"Open In Colab\"/></a>"
      ]
    },
    {
      "cell_type": "markdown",
      "metadata": {
        "id": "K4xmHtSVICS-",
        "colab_type": "text"
      },
      "source": [
        "# Numpy Array 연산"
      ]
    },
    {
      "cell_type": "markdown",
      "metadata": {
        "id": "SAVS5LUKMM0P",
        "colab_type": "text"
      },
      "source": [
        "## 반복문 속도"
      ]
    },
    {
      "cell_type": "markdown",
      "metadata": {
        "id": "9Q0bZaIcPr_d",
        "colab_type": "text"
      },
      "source": [
        "* Python의 기본 연산은 느리게 작동함\n",
        "* C언어에서와 같이 반복문을 작성할 수는 있으나, 그 경우 연산 속도가 느림"
      ]
    },
    {
      "cell_type": "code",
      "metadata": {
        "id": "zOqodkw1IFB4",
        "colab_type": "code",
        "colab": {}
      },
      "source": [
        "import numpy as np\n",
        "np.random.seed(0)\n",
        "\n",
        "def compute_reciprocals(values):\n",
        "    output = np.empty(len(values))\n",
        "    for i in range(len(values)):\n",
        "        output[i] = 1.0 / values[i]\n",
        "    return output\n",
        "        \n",
        "values = np.random.randint(1, 10, size=5)\n",
        "compute_reciprocals(values)"
      ],
      "execution_count": 0,
      "outputs": []
    },
    {
      "cell_type": "markdown",
      "metadata": {
        "id": "6hHXBZX8Mh6e",
        "colab_type": "text"
      },
      "source": [
        "* ```%timeit```을 통해 연산시간을 특정할 수 있음\n",
        "\n"
      ]
    },
    {
      "cell_type": "code",
      "metadata": {
        "id": "TIV7MFmuMV1V",
        "colab_type": "code",
        "colab": {}
      },
      "source": [
        "big_array = np.random.randint(1, 100, size=1000000)\n",
        "%timeit compute_reciprocals(big_array)"
      ],
      "execution_count": 0,
      "outputs": []
    },
    {
      "cell_type": "markdown",
      "metadata": {
        "id": "xNpGjUeeM5BT",
        "colab_type": "text"
      },
      "source": [
        "## UFuncs"
      ]
    },
    {
      "cell_type": "markdown",
      "metadata": {
        "id": "avkNzfoBOMJN",
        "colab_type": "text"
      },
      "source": [
        "* Numpy에서는 Vectorized operation을 지원함"
      ]
    },
    {
      "cell_type": "code",
      "metadata": {
        "id": "iIDJSFv7MiR9",
        "colab_type": "code",
        "outputId": "56c6052e-1667-4fb2-fa4d-9fdf30bc5eef",
        "colab": {
          "base_uri": "https://localhost:8080/",
          "height": 53
        }
      },
      "source": [
        "print(compute_reciprocals(values))\n",
        "print(1.0 / values)"
      ],
      "execution_count": 0,
      "outputs": [
        {
          "output_type": "stream",
          "text": [
            "[0.16666667 1.         0.25       0.25       0.125     ]\n",
            "[0.16666667 1.         0.25       0.25       0.125     ]\n"
          ],
          "name": "stdout"
        }
      ]
    },
    {
      "cell_type": "code",
      "metadata": {
        "id": "rBfYd6w5OUPF",
        "colab_type": "code",
        "outputId": "503b3730-785e-4ce0-c41c-a9bbfeef04c9",
        "colab": {
          "base_uri": "https://localhost:8080/",
          "height": 35
        }
      },
      "source": [
        "%timeit (1.0 / big_array)"
      ],
      "execution_count": 0,
      "outputs": [
        {
          "output_type": "stream",
          "text": [
            "100 loops, best of 3: 2.51 ms per loop\n"
          ],
          "name": "stdout"
        }
      ]
    },
    {
      "cell_type": "code",
      "metadata": {
        "id": "C2nYwBHOOXmd",
        "colab_type": "code",
        "outputId": "d82c6433-50f3-4086-c62c-b5bcf7dfcbed",
        "colab": {
          "base_uri": "https://localhost:8080/",
          "height": 71
        }
      },
      "source": [
        "x1 = np.arange(5) \n",
        "x2 = np.arange(1, 6)\n",
        "x3 = x1 / x2\n",
        "print(x1)\n",
        "print(x2)\n",
        "print(x3)"
      ],
      "execution_count": 0,
      "outputs": [
        {
          "output_type": "stream",
          "text": [
            "[0 1 2 3 4]\n",
            "[1 2 3 4 5]\n",
            "[0.         0.5        0.66666667 0.75       0.8       ]\n"
          ],
          "name": "stdout"
        }
      ]
    },
    {
      "cell_type": "code",
      "metadata": {
        "id": "1LJJWM_EOlzd",
        "colab_type": "code",
        "outputId": "25a3479e-53ea-4814-aa56-7fbde22a8141",
        "colab": {
          "base_uri": "https://localhost:8080/",
          "height": 71
        }
      },
      "source": [
        "x = np.arange(9).reshape((3, 3))\n",
        "2 ** x"
      ],
      "execution_count": 0,
      "outputs": [
        {
          "output_type": "execute_result",
          "data": {
            "text/plain": [
              "array([[  1,   2,   4],\n",
              "       [  8,  16,  32],\n",
              "       [ 64, 128, 256]])"
            ]
          },
          "metadata": {
            "tags": []
          },
          "execution_count": 71
        }
      ]
    },
    {
      "cell_type": "markdown",
      "metadata": {
        "id": "jXJSk3U1O0rk",
        "colab_type": "text"
      },
      "source": [
        "* Array 대수 연산"
      ]
    },
    {
      "cell_type": "code",
      "metadata": {
        "id": "zCA3A9lGOyK9",
        "colab_type": "code",
        "outputId": "4b39d2d2-49aa-4a89-f841-74c925944c87",
        "colab": {
          "base_uri": "https://localhost:8080/",
          "height": 179
        }
      },
      "source": [
        "x = np.arange(4)\n",
        "print(\"x     =\", x)\n",
        "print(\"x + 5 =\", x + 5)\n",
        "print(\"x - 5 =\", x - 5)\n",
        "print(\"x * 2 =\", x * 2)\n",
        "print(\"x / 2 =\", x / 2)\n",
        "print(\"x // 2 =\", x // 2)  # floor division\n",
        "print(\"-x     = \", -x)\n",
        "print(\"x ** 2 = \", x ** 2)\n",
        "print(\"x % 2  = \", x % 2)"
      ],
      "execution_count": 0,
      "outputs": [
        {
          "output_type": "stream",
          "text": [
            "x     = [0 1 2 3]\n",
            "x + 5 = [5 6 7 8]\n",
            "x - 5 = [-5 -4 -3 -2]\n",
            "x * 2 = [0 2 4 6]\n",
            "x / 2 = [0.  0.5 1.  1.5]\n",
            "x // 2 = [0 0 1 1]\n",
            "-x     =  [ 0 -1 -2 -3]\n",
            "x ** 2 =  [0 1 4 9]\n",
            "x % 2  =  [0 1 0 1]\n"
          ],
          "name": "stdout"
        }
      ]
    },
    {
      "cell_type": "code",
      "metadata": {
        "id": "eXJpE3LLO7Pd",
        "colab_type": "code",
        "outputId": "48c18f1a-072a-4f40-ef49-a565dc80cca5",
        "colab": {
          "base_uri": "https://localhost:8080/",
          "height": 35
        }
      },
      "source": [
        "-(0.5*x + 1) ** 2"
      ],
      "execution_count": 0,
      "outputs": [
        {
          "output_type": "execute_result",
          "data": {
            "text/plain": [
              "array([-1.  , -2.25, -4.  , -6.25])"
            ]
          },
          "metadata": {
            "tags": []
          },
          "execution_count": 75
        }
      ]
    },
    {
      "cell_type": "code",
      "metadata": {
        "id": "1bpUXjUFO9Pt",
        "colab_type": "code",
        "outputId": "1d2f7975-8a03-4f48-d750-16a20275901b",
        "colab": {
          "base_uri": "https://localhost:8080/",
          "height": 35
        }
      },
      "source": [
        "np.add(x, 2)"
      ],
      "execution_count": 0,
      "outputs": [
        {
          "output_type": "execute_result",
          "data": {
            "text/plain": [
              "array([2, 3, 4, 5])"
            ]
          },
          "metadata": {
            "tags": []
          },
          "execution_count": 76
        }
      ]
    },
    {
      "cell_type": "markdown",
      "metadata": {
        "id": "4Iaoq9qpPHwR",
        "colab_type": "text"
      },
      "source": [
        "* **Operator Equivalent ufunc**\n",
        " * ''' + '''\tnp.add\tAddition (e.g., 1 + 1 = 2)\n",
        " * ''' - '''\tnp.subtract\tSubtraction (e.g., 3 - 2 = 1)\n",
        " * ''' - '''\tnp.negative\tUnary negation (e.g., -2)\n",
        " * ''' * '''\tnp.multiply\tMultiplication (e.g., 2 * 3 = 6)\n",
        " * ''' / '''\tnp.divide\tDivision (e.g., 3 / 2 = 1.5)\n",
        " * ''' // '''\tnp.floor_divide\tFloor division (e.g., 3 // 2 = 1)\n",
        " * ''' ** '''\tnp.power\tExponentiation (e.g., 2 ** 3 = 8)\n",
        " * ''' % '''\tnp.mod\tModulus/remainder (e.g., 9 % 4 = 1)"
      ]
    },
    {
      "cell_type": "markdown",
      "metadata": {
        "id": "eJYLgaHKPjMA",
        "colab_type": "text"
      },
      "source": [
        "* 절댓값"
      ]
    },
    {
      "cell_type": "code",
      "metadata": {
        "id": "ob4CJH1VPFMV",
        "colab_type": "code",
        "outputId": "7374a7e9-1ccc-454a-ca90-02d4c12172e6",
        "colab": {
          "base_uri": "https://localhost:8080/",
          "height": 35
        }
      },
      "source": [
        "x = np.array([-2, -1, 0, 1, 2])\n",
        "abs(x)"
      ],
      "execution_count": 0,
      "outputs": [
        {
          "output_type": "execute_result",
          "data": {
            "text/plain": [
              "array([2, 1, 0, 1, 2])"
            ]
          },
          "metadata": {
            "tags": []
          },
          "execution_count": 77
        }
      ]
    },
    {
      "cell_type": "code",
      "metadata": {
        "id": "-cFiRoPtPxze",
        "colab_type": "code",
        "outputId": "4ded599b-1d73-4393-9d52-d0d7bcbb4658",
        "colab": {
          "base_uri": "https://localhost:8080/",
          "height": 35
        }
      },
      "source": [
        "np.absolute(x)"
      ],
      "execution_count": 0,
      "outputs": [
        {
          "output_type": "execute_result",
          "data": {
            "text/plain": [
              "array([2, 1, 0, 1, 2])"
            ]
          },
          "metadata": {
            "tags": []
          },
          "execution_count": 79
        }
      ]
    },
    {
      "cell_type": "code",
      "metadata": {
        "id": "nl2K3GEvP0h-",
        "colab_type": "code",
        "outputId": "89f86af3-aca0-477d-d7cb-169da97cfc53",
        "colab": {
          "base_uri": "https://localhost:8080/",
          "height": 35
        }
      },
      "source": [
        "np.abs(x)"
      ],
      "execution_count": 0,
      "outputs": [
        {
          "output_type": "execute_result",
          "data": {
            "text/plain": [
              "array([2, 1, 0, 1, 2])"
            ]
          },
          "metadata": {
            "tags": []
          },
          "execution_count": 80
        }
      ]
    },
    {
      "cell_type": "markdown",
      "metadata": {
        "id": "TYYujWCvP4_y",
        "colab_type": "text"
      },
      "source": [
        "* ufunc는 복소수도 다룰 수 있음"
      ]
    },
    {
      "cell_type": "code",
      "metadata": {
        "id": "8OFOO93sP2oF",
        "colab_type": "code",
        "outputId": "d53e221f-abce-4b1e-8363-208a428e3d80",
        "colab": {
          "base_uri": "https://localhost:8080/",
          "height": 35
        }
      },
      "source": [
        "x = np.array([3 - 4j, 4 - 3j, 2 + 0j, 0 + 1j])\n",
        "np.abs(x)"
      ],
      "execution_count": 0,
      "outputs": [
        {
          "output_type": "execute_result",
          "data": {
            "text/plain": [
              "array([5., 5., 2., 1.])"
            ]
          },
          "metadata": {
            "tags": []
          },
          "execution_count": 81
        }
      ]
    },
    {
      "cell_type": "markdown",
      "metadata": {
        "id": "E9x5ISCDP-nh",
        "colab_type": "text"
      },
      "source": [
        "* 삼각함수"
      ]
    },
    {
      "cell_type": "code",
      "metadata": {
        "id": "whXwKQvIP9dV",
        "colab_type": "code",
        "colab": {}
      },
      "source": [
        "theta = np.linspace(0, np.pi, 3)"
      ],
      "execution_count": 0,
      "outputs": []
    },
    {
      "cell_type": "code",
      "metadata": {
        "id": "tItddPMOQA6-",
        "colab_type": "code",
        "outputId": "74fe4afa-1995-49b1-c3e3-130b24d6759d",
        "colab": {
          "base_uri": "https://localhost:8080/",
          "height": 89
        }
      },
      "source": [
        "print(\"theta      = \", theta)\n",
        "print(\"sin(theta) = \", np.sin(theta))\n",
        "print(\"cos(theta) = \", np.cos(theta))\n",
        "print(\"tan(theta) = \", np.tan(theta))"
      ],
      "execution_count": 0,
      "outputs": [
        {
          "output_type": "stream",
          "text": [
            "theta      =  [0.         1.57079633 3.14159265]\n",
            "sin(theta) =  [0.0000000e+00 1.0000000e+00 1.2246468e-16]\n",
            "cos(theta) =  [ 1.000000e+00  6.123234e-17 -1.000000e+00]\n",
            "tan(theta) =  [ 0.00000000e+00  1.63312394e+16 -1.22464680e-16]\n"
          ],
          "name": "stdout"
        }
      ]
    },
    {
      "cell_type": "code",
      "metadata": {
        "id": "4duGNfVHQB8n",
        "colab_type": "code",
        "outputId": "5ddb9a67-5953-464f-b1ed-079225907f08",
        "colab": {
          "base_uri": "https://localhost:8080/",
          "height": 89
        }
      },
      "source": [
        "x = [-1, 0, 1]\n",
        "print(\"x         = \", x)\n",
        "print(\"arcsin(x) = \", np.arcsin(x))\n",
        "print(\"arccos(x) = \", np.arccos(x))\n",
        "print(\"arctan(x) = \", np.arctan(x))"
      ],
      "execution_count": 0,
      "outputs": [
        {
          "output_type": "stream",
          "text": [
            "x         =  [-1, 0, 1]\n",
            "arcsin(x) =  [-1.57079633  0.          1.57079633]\n",
            "arccos(x) =  [3.14159265 1.57079633 0.        ]\n",
            "arctan(x) =  [-0.78539816  0.          0.78539816]\n"
          ],
          "name": "stdout"
        }
      ]
    },
    {
      "cell_type": "markdown",
      "metadata": {
        "id": "CKNAW4dPQngy",
        "colab_type": "text"
      },
      "source": [
        "* 지수함수와 로그"
      ]
    },
    {
      "cell_type": "code",
      "metadata": {
        "id": "Rczblk5iQmCN",
        "colab_type": "code",
        "outputId": "326e60bc-c9f7-47b0-d65e-0ae2b23cff75",
        "colab": {
          "base_uri": "https://localhost:8080/",
          "height": 89
        }
      },
      "source": [
        "x = [1, 2, 3]\n",
        "print(\"x     =\", x)\n",
        "print(\"e^x   =\", np.exp(x))\n",
        "print(\"2^x   =\", np.exp2(x))\n",
        "print(\"3^x   =\", np.power(3, x))"
      ],
      "execution_count": 0,
      "outputs": [
        {
          "output_type": "stream",
          "text": [
            "x     = [1, 2, 3]\n",
            "e^x   = [ 2.71828183  7.3890561  20.08553692]\n",
            "2^x   = [2. 4. 8.]\n",
            "3^x   = [ 3  9 27]\n"
          ],
          "name": "stdout"
        }
      ]
    },
    {
      "cell_type": "code",
      "metadata": {
        "id": "hV_2CFm1QrDN",
        "colab_type": "code",
        "outputId": "772b3fb2-1213-4bea-9d3a-dafec5e6ad16",
        "colab": {
          "base_uri": "https://localhost:8080/",
          "height": 89
        }
      },
      "source": [
        "x = [1, 2, 4, 10]\n",
        "print(\"x        =\", x)\n",
        "print(\"ln(x)    =\", np.log(x))\n",
        "print(\"log2(x)  =\", np.log2(x))\n",
        "print(\"log10(x) =\", np.log10(x))"
      ],
      "execution_count": 0,
      "outputs": [
        {
          "output_type": "stream",
          "text": [
            "x        = [1, 2, 4, 10]\n",
            "ln(x)    = [0.         0.69314718 1.38629436 2.30258509]\n",
            "log2(x)  = [0.         1.         2.         3.32192809]\n",
            "log10(x) = [0.         0.30103    0.60205999 1.        ]\n"
          ],
          "name": "stdout"
        }
      ]
    },
    {
      "cell_type": "code",
      "metadata": {
        "id": "U67Kf4hpQsTl",
        "colab_type": "code",
        "outputId": "a668c22e-24a2-4001-b4c6-0dd5931ce9dc",
        "colab": {
          "base_uri": "https://localhost:8080/",
          "height": 53
        }
      },
      "source": [
        "x = [0, 0.001, 0.01, 0.1]\n",
        "print(\"exp(x) - 1 =\", np.expm1(x))\n",
        "print(\"log(1 + x) =\", np.log1p(x))"
      ],
      "execution_count": 0,
      "outputs": [
        {
          "output_type": "stream",
          "text": [
            "exp(x) - 1 = [0.         0.0010005  0.01005017 0.10517092]\n",
            "log(1 + x) = [0.         0.0009995  0.00995033 0.09531018]\n"
          ],
          "name": "stdout"
        }
      ]
    },
    {
      "cell_type": "markdown",
      "metadata": {
        "id": "g6mf--geRupQ",
        "colab_type": "text"
      },
      "source": [
        "# 기타 참고 자료\n",
        "* https://jakevdp.github.io/PythonDataScienceHandbook/index.html"
      ]
    },
    {
      "cell_type": "code",
      "metadata": {
        "id": "4Ua7RcuORvEN",
        "colab_type": "code",
        "colab": {}
      },
      "source": [
        ""
      ],
      "execution_count": 0,
      "outputs": []
    }
  ]
}