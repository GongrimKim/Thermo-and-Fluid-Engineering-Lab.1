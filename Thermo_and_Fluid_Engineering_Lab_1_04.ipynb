{
  "nbformat": 4,
  "nbformat_minor": 0,
  "metadata": {
    "colab": {
      "name": "Thermo_and_Fluid_Engineering_Lab_1_04.ipynb",
      "version": "0.3.2",
      "provenance": [],
      "include_colab_link": true
    },
    "kernelspec": {
      "name": "python3",
      "display_name": "Python 3"
    }
  },
  "cells": [
    {
      "cell_type": "markdown",
      "metadata": {
        "id": "view-in-github",
        "colab_type": "text"
      },
      "source": [
        "<a href=\"https://colab.research.google.com/github/JinFree/Thermo-and-Fluid-Engineering-Lab.1/blob/master/Thermo_and_Fluid_Engineering_Lab_1_04.ipynb\" target=\"_parent\"><img src=\"https://colab.research.google.com/assets/colab-badge.svg\" alt=\"Open In Colab\"/></a>"
      ]
    },
    {
      "cell_type": "markdown",
      "metadata": {
        "colab_type": "text",
        "id": "xSP2r2U_hB9m"
      },
      "source": [
        "# Matplotlib"
      ]
    },
    {
      "cell_type": "markdown",
      "metadata": {
        "id": "HKKxZTOch0Y5",
        "colab_type": "text"
      },
      "source": [
        "## Matplotlib Import"
      ]
    },
    {
      "cell_type": "code",
      "metadata": {
        "id": "j0FcL04Ch4hg",
        "colab_type": "code",
        "colab": {}
      },
      "source": [
        "import matplotlib as mpl\n",
        "import matplotlib.pyplot as plt"
      ],
      "execution_count": 0,
      "outputs": []
    },
    {
      "cell_type": "markdown",
      "metadata": {
        "id": "NL6nEh9Nh3-K",
        "colab_type": "text"
      },
      "source": [
        "* Style Setting"
      ]
    },
    {
      "cell_type": "code",
      "metadata": {
        "id": "_XpCWTYkh9wl",
        "colab_type": "code",
        "colab": {}
      },
      "source": [
        "plt.style.use('classic')"
      ],
      "execution_count": 0,
      "outputs": []
    },
    {
      "cell_type": "markdown",
      "metadata": {
        "id": "33DXv6Q-dOYv",
        "colab_type": "text"
      },
      "source": [
        "# 과제\n",
        "## 4번\n",
        "* 파일 - 새 Python3 노트를 통해 새 노트북을 만드시오.\n",
        "* Python을 활용하여 구구단을 출력하는 함수를 만드시오.\n",
        " * 입력은 하나의 정수를 받으며, 출력은 해당 정수의 구구단을 총 9줄로 출력함.\n",
        "* 파일 - Github에 사본 저장을 통해 1번 과제에서 복사한 저장소에 아래와 같은 이름으로 저장하시오.\n",
        " * 열유체공학실험-2016201278-HW04\n",
        " * 다른 제목인 경우 미제출 처리 될 수 있음."
      ]
    }
  ]
}