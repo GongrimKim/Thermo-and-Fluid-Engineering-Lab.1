{
  "nbformat": 4,
  "nbformat_minor": 0,
  "metadata": {
    "colab": {
      "name": "Thermo_and_Fluid_Engineering_Lab_1_03.ipynb",
      "version": "0.3.2",
      "provenance": [],
      "include_colab_link": true
    },
    "kernelspec": {
      "name": "python3",
      "display_name": "Python 3"
    }
  },
  "cells": [
    {
      "cell_type": "markdown",
      "metadata": {
        "id": "view-in-github",
        "colab_type": "text"
      },
      "source": [
        "<a href=\"https://colab.research.google.com/github/JinFree/Thermo-and-Fluid-Engineering-Lab.1/blob/master/Thermo_and_Fluid_Engineering_Lab_1_03.ipynb\" target=\"_parent\"><img src=\"https://colab.research.google.com/assets/colab-badge.svg\" alt=\"Open In Colab\"/></a>"
      ]
    },
    {
      "cell_type": "markdown",
      "metadata": {
        "id": "-bNfo6UcGGVa",
        "colab_type": "text"
      },
      "source": [
        "# Numpy 기본\n",
        "## Numpy의 기본 Array\n",
        "* Array 선언 방법"
      ]
    },
    {
      "cell_type": "code",
      "metadata": {
        "id": "85w4XN_DGFvc",
        "colab_type": "code",
        "colab": {}
      },
      "source": [
        "import numpy as np\n",
        "np.random.seed(4452)  # 재현성을 위한 랜덤 시드 설정\n",
        "\n",
        "x1 = np.random.randint(10, size=6)  # 1차원 Array\n",
        "x2 = np.random.randint(10, size=(3, 4))  # 2차원 Array\n",
        "x3 = np.random.randint(10, size=(3, 4, 5))  # 3차원 Array"
      ],
      "execution_count": 0,
      "outputs": []
    },
    {
      "cell_type": "markdown",
      "metadata": {
        "id": "tEGvD6yRWNVU",
        "colab_type": "text"
      },
      "source": [
        "* Array의 기본 성질"
      ]
    },
    {
      "cell_type": "code",
      "metadata": {
        "id": "ZFHznnbmX56v",
        "colab_type": "code",
        "colab": {}
      },
      "source": [
        "print(\"x3 ndim: \", x3.ndim)\n",
        "print(\"x3 shape:\", x3.shape)\n",
        "print(\"x3 size: \", x3.size)\n",
        "print(\"dtype:\", x3.dtype)\n",
        "print(\"itemsize:\", x3.itemsize, \"bytes\")\n",
        "print(\"nbytes:\", x3.nbytes, \"bytes\")"
      ],
      "execution_count": 0,
      "outputs": []
    }
  ]
}