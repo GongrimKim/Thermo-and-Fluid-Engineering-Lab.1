{
  "nbformat": 4,
  "nbformat_minor": 0,
  "metadata": {
    "colab": {
      "name": "Thermo and Fluid Engineering Lab. 1_02.ipynb",
      "version": "0.3.2",
      "provenance": [],
      "collapsed_sections": [],
      "include_colab_link": true
    },
    "kernelspec": {
      "name": "python3",
      "display_name": "Python 3"
    }
  },
  "cells": [
    {
      "cell_type": "markdown",
      "metadata": {
        "id": "view-in-github",
        "colab_type": "text"
      },
      "source": [
        "<a href=\"https://colab.research.google.com/github/JinFree/Thermo-and-Fluid-Engineering-Lab.1/blob/master/Thermo_and_Fluid_Engineering_Lab_1_02.ipynb\" target=\"_parent\"><img src=\"https://colab.research.google.com/assets/colab-badge.svg\" alt=\"Open In Colab\"/></a>"
      ]
    },
    {
      "cell_type": "markdown",
      "metadata": {
        "id": "i6hlWHk-QEWU",
        "colab_type": "text"
      },
      "source": [
        "# Python을 활용한 수치해법"
      ]
    },
    {
      "cell_type": "markdown",
      "metadata": {
        "id": "U9fzz_ob07KH",
        "colab_type": "text"
      },
      "source": [
        "## Python에서의 Data Type"
      ]
    },
    {
      "cell_type": "markdown",
      "metadata": {
        "id": "vFcFa-BA0_X5",
        "colab_type": "text"
      },
      "source": [
        "* C언어와는 다르게, Python에서는 변수를 선언하면서 자료형을 명시할 필요가 없음.\n",
        "* 예를 들어, C언어에서 for문을 통해 등차수열의 합을 구하는 코드는 아래와 같음.\n",
        "```\n",
        "/* C Code */ \n",
        "int result = 0;\n",
        "for( int i = 1 ; i < 51 ; i++)\n",
        "{\n",
        "    result += i;\n",
        "}\n",
        "```\n"
      ]
    },
    {
      "cell_type": "markdown",
      "metadata": {
        "id": "rsqs2PMd2Piv",
        "colab_type": "text"
      },
      "source": [
        "* Python에서 for문을 통해 등차수열의 합을 구하는 코드는 아래와 같음."
      ]
    },
    {
      "cell_type": "code",
      "metadata": {
        "id": "was-Hf48P7dP",
        "colab_type": "code",
        "colab": {}
      },
      "source": [
        "# Python Code\n",
        "result = 0\n",
        "for i in range(1, 51):\n",
        "    result += i"
      ],
      "execution_count": 0,
      "outputs": []
    },
    {
      "cell_type": "markdown",
      "metadata": {
        "id": "T44mMwFx2kWc",
        "colab_type": "text"
      },
      "source": [
        "* C언어에서는 변수를 선언하면서 자료형을 명시하기 때문에 한번 선언한 변수의 자료형을 바꿀 수 없음\n",
        "* 그러나 Python에서는 변수의 자료형을 바꾸는 것이 가능함"
      ]
    },
    {
      "cell_type": "code",
      "metadata": {
        "id": "I6-745tw2x3Z",
        "colab_type": "code",
        "colab": {}
      },
      "source": [
        "var_A = \"Python\"\n",
        "print(var_A)\n",
        "var_A = 22200114\n",
        "print(var_A)\n",
        "var_A -= 114\n",
        "print(var_A)"
      ],
      "execution_count": 0,
      "outputs": []
    },
    {
      "cell_type": "markdown",
      "metadata": {
        "id": "fazutyhnP5Ju",
        "colab_type": "text"
      },
      "source": [
        "* 리스트\n",
        " * C++에서의 std::vector와 유사함\n",
        " * 단 C++에서의 std::vector는 vector 내에 들어가는 데이터 형을 지정해서 초기화하지만 Python에서는 하나의 리스트 내에 다양한 데이터 형을 넣을 수 있음"
      ]
    },
    {
      "cell_type": "code",
      "metadata": {
        "id": "2PAmXzJjS3UI",
        "colab_type": "code",
        "colab": {}
      },
      "source": [
        "list_A = list(range(10))\n",
        "print(list_A)"
      ],
      "execution_count": 0,
      "outputs": []
    },
    {
      "cell_type": "code",
      "metadata": {
        "id": "lG0XEqhqS-uI",
        "colab_type": "code",
        "colab": {}
      },
      "source": [
        "print(type(list_A))\n",
        "print(type(list_A[0]))"
      ],
      "execution_count": 0,
      "outputs": []
    },
    {
      "cell_type": "code",
      "metadata": {
        "id": "k438jyL4TLSS",
        "colab_type": "code",
        "colab": {}
      },
      "source": [
        "list_B = [str(var_A) for var_A in list_A]\n",
        "print(list_B)\n",
        "print(type(list_B))\n",
        "print(type(list_B[0]))"
      ],
      "execution_count": 0,
      "outputs": []
    },
    {
      "cell_type": "code",
      "metadata": {
        "id": "42SanFtpTYqn",
        "colab_type": "code",
        "colab": {}
      },
      "source": [
        "list_C = [True, '2', 3.0, 4]\n",
        "print([type(var_C) for var_C in list_C])"
      ],
      "execution_count": 0,
      "outputs": []
    },
    {
      "cell_type": "markdown",
      "metadata": {
        "id": "3RK1j1qbzE6v",
        "colab_type": "text"
      },
      "source": [
        "# 과제\n",
        "## 1번\n",
        "* Github에 회원가입한 후 아래의 저장소를 fork하시오.\n",
        " * https://github.com/JinFree/Thermo-and-Fluid-Engineering-Lab.1\n",
        "\n",
        "## 2번\n",
        "* 파일 - 새 Python3 노트를 통해 새 노트북을 만드시오.\n",
        "* Python을 활용하여 구구단을 출력하는 함수를 만드시오.\n",
        " * 입력은 하나의 정수를 받으며, 출력은 해당 정수의 구구단을 총 9줄로 출력함.\n",
        "* 파일 - Github에 사본 저장을 통해 1번 과제에서 복사한 저장소에 아래와 같은 이름으로 저장하시오.\n",
        " * 열유체공학실험-2016201278-HW02\n",
        " * 다른 제목인 경우 미제출 처리 될 수 있음."
      ]
    },
    {
      "cell_type": "code",
      "metadata": {
        "id": "7j5Qe60z1bqS",
        "colab_type": "code",
        "colab": {}
      },
      "source": [
        ""
      ],
      "execution_count": 0,
      "outputs": []
    }
  ]
}