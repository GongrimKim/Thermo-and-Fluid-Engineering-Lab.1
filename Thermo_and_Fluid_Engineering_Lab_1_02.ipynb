{
  "nbformat": 4,
  "nbformat_minor": 0,
  "metadata": {
    "colab": {
      "name": "Thermo and Fluid Engineering Lab. 1_02.ipynb",
      "version": "0.3.2",
      "provenance": [],
      "include_colab_link": true
    },
    "kernelspec": {
      "name": "python3",
      "display_name": "Python 3"
    }
  },
  "cells": [
    {
      "cell_type": "markdown",
      "metadata": {
        "id": "view-in-github",
        "colab_type": "text"
      },
      "source": [
        "<a href=\"https://colab.research.google.com/github/JinFree/Thermo-and-Fluid-Engineering-Lab.1/blob/master/Thermo_and_Fluid_Engineering_Lab_1_02.ipynb\" target=\"_parent\"><img src=\"https://colab.research.google.com/assets/colab-badge.svg\" alt=\"Open In Colab\"/></a>"
      ]
    },
    {
      "cell_type": "markdown",
      "metadata": {
        "id": "i6hlWHk-QEWU",
        "colab_type": "text"
      },
      "source": [
        "# Python을 활용한 수치해법"
      ]
    },
    {
      "cell_type": "markdown",
      "metadata": {
        "id": "U9fzz_ob07KH",
        "colab_type": "text"
      },
      "source": [
        "## Python에서의 Data Type"
      ]
    },
    {
      "cell_type": "markdown",
      "metadata": {
        "id": "vFcFa-BA0_X5",
        "colab_type": "text"
      },
      "source": [
        "* C언어와는 다르게, Python에서는 변수를 선언하면서 자료형을 명시할 필요가 없음.\n",
        "* 예를 들어, C언어에서 for문을 통해 등차수열의 합을 구하는 코드는 아래와 같음.\n",
        "```\n",
        "/* C Code */ \n",
        "int result = 0;\n",
        "for( int i = 1 ; i < 51 ; i++)\n",
        "{\n",
        "    result += i;\n",
        "}\n",
        "```\n"
      ]
    },
    {
      "cell_type": "markdown",
      "metadata": {
        "id": "rsqs2PMd2Piv",
        "colab_type": "text"
      },
      "source": [
        "* Python에서 for문을 통해 등차수열의 합을 구하는 코드는 아래와 같음."
      ]
    },
    {
      "cell_type": "code",
      "metadata": {
        "id": "was-Hf48P7dP",
        "colab_type": "code",
        "colab": {}
      },
      "source": [
        "# Python Code\n",
        "result = 0\n",
        "for i in range(1, 51):\n",
        "    result += i"
      ],
      "execution_count": 0,
      "outputs": []
    },
    {
      "cell_type": "markdown",
      "metadata": {
        "id": "T44mMwFx2kWc",
        "colab_type": "text"
      },
      "source": [
        "* C언어에서는 변수를 선언하면서 자료형을 명시하기 때문에 한번 선언한 변수의 자료형을 바꿀 수 없음\n",
        "* 그러나 Python에서는 변수의 자료형을 바꾸는 것이 가능함"
      ]
    },
    {
      "cell_type": "code",
      "metadata": {
        "id": "I6-745tw2x3Z",
        "colab_type": "code",
        "colab": {}
      },
      "source": [
        "var_A = \"\""
      ],
      "execution_count": 0,
      "outputs": []
    },
    {
      "cell_type": "markdown",
      "metadata": {
        "id": "3RK1j1qbzE6v",
        "colab_type": "text"
      },
      "source": [
        "# 과제\n",
        "Python을 활용하여 구구단을 출력하는 함수를 만드시오.\n",
        "* 파일 - 새 Python3 노트\n",
        "* Python을 활용하여 구구단을 출력하는 함수를 만드시오.\n",
        "* 입력은 하나의 정수를 받으며, 출력은 해당 정수의 구구단을 출력함 (총 9줄)\n",
        "* 9보다 큰 수가 입력되는 경우 잘못된 수가 입력되었다고 출력한 후 함수 종료\n",
        "* 파일을 .py로 다운로드 한 후 안내하는 이메일로 보내시오.\n",
        "* 이메일 제목은 아래와 같은 형식이며, 다른 형식으로 보낼 경우 미제출 처리 될 수 있음.\n",
        " * 열유체공학실험-2016201278-왕진영-HW02\n"
      ]
    }
  ]
}